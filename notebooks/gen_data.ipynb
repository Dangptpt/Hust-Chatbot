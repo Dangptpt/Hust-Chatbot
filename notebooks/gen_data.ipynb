{
 "cells": [
  {
   "cell_type": "code",
   "execution_count": 2,
   "metadata": {},
   "outputs": [],
   "source": [
    "import os\n",
    "from dotenv import load_dotenv\n",
    "from supabase import create_client, Client\n",
    "\n",
    "load_dotenv()\n",
    "SUPABASE_URL = os.getenv(\"SUPABASE_URL\")\n",
    "SUPABASE_SECRET_KEY = os.getenv(\"SUPABASE_KEY\")"
   ]
  },
  {
   "cell_type": "code",
   "execution_count": 3,
   "metadata": {},
   "outputs": [],
   "source": [
    "url: str = SUPABASE_URL\n",
    "key: str = SUPABASE_SECRET_KEY\n",
    "\n",
    "supabase = create_client(url, key)"
   ]
  },
  {
   "cell_type": "code",
   "execution_count": 13,
   "metadata": {},
   "outputs": [
    {
     "data": {
      "text/plain": [
       "[{'id': '2922ccf2-2b7c-4109-bbc0-467f6ffd014d',\n",
       "  'embed_doc': 'III. Hạng mục công việc và người phụ trách\\nHạng mục: Xét nhận Đồ án/khóa luận tốt nghiệp Bù tín chỉ\\nHạng mục viết tắt: [Xét nhận ĐATN]\\nGửi email tới/vào link đặt câu hỏi: huong.nguyenthi1@hust.edu.vn\\nMẫu đơn: Tải tại đây ',\n",
       "  'raw_doc': 'III. Hạng mục công việc và người phụ trách\\nHạng mục: Xét nhận Đồ án/khóa luận tốt nghiệp Bù tín chỉ\\nHạng mục viết tắt: [Xét nhận ĐATN]\\nGửi email tới/vào link đặt câu hỏi: huong.nguyenthi1@hust.edu.vn\\nMẫu đơn: Tải tại đây https://husteduvn.sharepoint.com/:w:/s/NguyenXuanTung_PDT/EdDCJnCWLlRHtEafh2p11aoBLB1ev58zMt1tmTuk9x9Nfg?e=1efidj',\n",
       "  'type_doc': 'Thắc mắc'}]"
      ]
     },
     "execution_count": 13,
     "metadata": {},
     "output_type": "execute_result"
    }
   ],
   "source": [
    "response = supabase.table(\"document\").select(\"*\").execute()\n",
    "data = response.data[:1]\n",
    "data"
   ]
  },
  {
   "cell_type": "code",
   "execution_count": 16,
   "metadata": {},
   "outputs": [],
   "source": [
    "import asyncio\n",
    "import json\n",
    "from openai import OpenAI, AsyncOpenAI\n",
    "from typing import List, Dict\n",
    "\n",
    "async def invoke_async(request):    \n",
    "    client = AsyncOpenAI()\n",
    "    completion = await client.chat.completions.create(\n",
    "        model=\"gpt-4o-mini\",\n",
    "        temperature=0,\n",
    "        messages=[\n",
    "            {\"role\": \"system\", \"content\": \"Bạn là chuyên gia ......\"},\n",
    "            {\n",
    "                \"role\": \"user\",\n",
    "                \"content\": request\n",
    "            }\n",
    "        ]\n",
    "    )\n",
    "\n",
    "    return completion.choices[0].message.content\n",
    "\n",
    "def create_request(raw_data: str):\n",
    "    prompt = f\"\"\"\n",
    "    Dựa vào thông tin sau, hãy tạo 3 câu hỏi và câu trả lời liên quan:\n",
    "    {raw_data}\n",
    "    \n",
    "    Format trả về phải là một list các dict với format:\n",
    "    [\n",
    "        {{\"question\": \"câu hỏi 1\", \"answer\": \"câu trả lời 1\"}},\n",
    "        {{\"question\": \"câu hỏi 2\", \"answer\": \"câu trả lời 2\"}},\n",
    "        {{\"question\": \"câu hỏi 3\", \"answer\": \"câu trả lời 3\"}}\n",
    "    ]\n",
    "    \"\"\"\n",
    "\n",
    "    return prompt\n",
    "\n",
    "async def process_documents(data: List[Dict], batch_size: int = 5) -> List[Dict]:\n",
    "    \"\"\"Process documents in batches using invoke_async\"\"\"\n",
    "    all_results = []\n",
    "    \n",
    "    for i in range(0, len(data), batch_size):\n",
    "        batch = data[i:i + batch_size]\n",
    "        batch_results = await process_batch(batch)\n",
    "        all_results.extend(batch_results)\n",
    "        print(f\"Processed batch {i//batch_size + 1}/{(len(data) + batch_size - 1)//batch_size}\")\n",
    "    \n",
    "    return all_results\n",
    "\n",
    "async def process_batch(batch: List[Dict]) -> List[Dict]:\n",
    "    \"\"\"Process a single batch of documents\"\"\"\n",
    "    tasks = []\n",
    "    \n",
    "    for doc in batch:\n",
    "        request = create_request(doc['raw_doc'])\n",
    "        tasks.append(invoke_async(request))\n",
    "    \n",
    "    results = await asyncio.gather(*tasks, return_exceptions=True)\n",
    "    \n",
    "    processed_data = []\n",
    "    for doc, result in zip(batch, results):\n",
    "        if isinstance(result, Exception):\n",
    "            print(f\"Error processing doc {doc['id']}: {str(result)}\")\n",
    "            continue\n",
    "            \n",
    "        try:\n",
    "            # Parse the GPT response into questions and answers\n",
    "            if \"```\" in result:\n",
    "                result = result.replace(\"```\", \"\").replace(\"json\", \"\").strip()\n",
    "            qa_list = json.loads(result)\n",
    "            for qa in qa_list:\n",
    "                processed_data.append({\n",
    "                    \"question\": qa[\"question\"],\n",
    "                    \"answer\": qa[\"answer\"],\n",
    "                    \"raw_data\": doc[\"raw_doc\"],\n",
    "                    \"id\": doc[\"id\"]\n",
    "                })\n",
    "        except Exception as e:\n",
    "            print(f\"Error parsing result for doc {doc['id']}: {str(e)}\")\n",
    "            continue\n",
    "    \n",
    "    return processed_data\n",
    "    "
   ]
  },
  {
   "cell_type": "code",
   "execution_count": 17,
   "metadata": {},
   "outputs": [
    {
     "name": "stdout",
     "output_type": "stream",
     "text": [
      "Processed batch 1/1\n"
     ]
    }
   ],
   "source": [
    "results = await process_documents(data, batch_size=1)\n",
    "with open('question_generate.json', 'w', encoding='utf-8') as f:\n",
    "    json.dump(results, f, ensure_ascii=False, indent=2)"
   ]
  }
 ],
 "metadata": {
  "kernelspec": {
   "display_name": ".venv",
   "language": "python",
   "name": "python3"
  },
  "language_info": {
   "codemirror_mode": {
    "name": "ipython",
    "version": 3
   },
   "file_extension": ".py",
   "mimetype": "text/x-python",
   "name": "python",
   "nbconvert_exporter": "python",
   "pygments_lexer": "ipython3",
   "version": "3.11.3"
  }
 },
 "nbformat": 4,
 "nbformat_minor": 2
}
